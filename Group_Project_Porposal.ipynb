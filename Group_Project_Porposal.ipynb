{
 "cells": [
  {
   "cell_type": "markdown",
   "metadata": {},
   "source": [
    "# Classification of Human Stress Levels"
   ]
  },
  {
   "cell_type": "markdown",
   "metadata": {},
   "source": [
    "Research question: What physiological factors during sleep estimate human stress levels?"
   ]
  },
  {
   "cell_type": "markdown",
   "metadata": {},
   "source": [
    "Introduction: \n",
    "\n",
    "In today's society, especially for newer generations, it is a well known fact that daily stress is at an all time high. With gen Z facing record numbers of school shootings, student debt, joblessness, housing prices, and increased political tension, stress within the younger generations of our society is through the roof. High levels of stress left unchecked can lead to high blood pressure, heart disease, obesity, anxiety, depression etc. Our group has found a data set which relates snoring rate, heart rate, respiration rate, and body temperature while sleeping to stress levels of an individual. We want to know, how certain physiological factors can help us accurately estimate our stress levels while sleeping? We think this to be a quite important study, due to the simplicity of it, and the possibility for individuals to do at home “sleep studies” in order to predict their stress levels. The data set being used is called SayoPillow.csv, and you can see the relationship between the parameters- snoring range of the user, respiration rate, body temperature, limb movement rate, blood oxygen levels, eye movement, number of hours of sleep, heart rate and Stress Levels (0- low/normal, 1 – medium low, 2- medium, 3-medium high, 4 -high).\n"
   ]
  },
  {
   "cell_type": "code",
   "execution_count": 8,
   "metadata": {},
   "outputs": [],
   "source": [
    "library(tidyverse)\n",
    "library(repr)\n",
    "library(tidymodels)\n",
    "library(ggplot2)\n",
    "library(GGally)\n",
    "options(repr.matrix.max.rows = 6)"
   ]
  },
  {
   "cell_type": "code",
   "execution_count": 9,
   "metadata": {},
   "outputs": [
    {
     "name": "stderr",
     "output_type": "stream",
     "text": [
      "Warning message:\n",
      "“Duplicated column names deduplicated: 'sr' => 'sr_1' [7]”\n",
      "Parsed with column specification:\n",
      "cols(\n",
      "  sr = \u001b[32mcol_double()\u001b[39m,\n",
      "  rr = \u001b[32mcol_double()\u001b[39m,\n",
      "  t = \u001b[32mcol_double()\u001b[39m,\n",
      "  lm = \u001b[32mcol_double()\u001b[39m,\n",
      "  bo = \u001b[32mcol_double()\u001b[39m,\n",
      "  rem = \u001b[32mcol_double()\u001b[39m,\n",
      "  sr_1 = \u001b[32mcol_double()\u001b[39m,\n",
      "  hr = \u001b[32mcol_double()\u001b[39m,\n",
      "  sl = \u001b[32mcol_double()\u001b[39m\n",
      ")\n",
      "\n"
     ]
    },
    {
     "data": {
      "text/html": [
       "<table>\n",
       "<caption>A spec_tbl_df: 630 × 9</caption>\n",
       "<thead>\n",
       "\t<tr><th scope=col>sr</th><th scope=col>rr</th><th scope=col>t</th><th scope=col>lm</th><th scope=col>bo</th><th scope=col>rem</th><th scope=col>sr_1</th><th scope=col>hr</th><th scope=col>sl</th></tr>\n",
       "\t<tr><th scope=col>&lt;dbl&gt;</th><th scope=col>&lt;dbl&gt;</th><th scope=col>&lt;dbl&gt;</th><th scope=col>&lt;dbl&gt;</th><th scope=col>&lt;dbl&gt;</th><th scope=col>&lt;dbl&gt;</th><th scope=col>&lt;dbl&gt;</th><th scope=col>&lt;dbl&gt;</th><th scope=col>&lt;dbl&gt;</th></tr>\n",
       "</thead>\n",
       "<tbody>\n",
       "\t<tr><td>93.80</td><td>25.680</td><td>91.840</td><td>16.60</td><td>89.840</td><td>99.60</td><td>1.840</td><td>74.20</td><td>3</td></tr>\n",
       "\t<tr><td>91.64</td><td>25.104</td><td>91.552</td><td>15.88</td><td>89.552</td><td>98.88</td><td>1.552</td><td>72.76</td><td>3</td></tr>\n",
       "\t<tr><td>60.00</td><td>20.000</td><td>96.000</td><td>10.00</td><td>95.000</td><td>85.00</td><td>7.000</td><td>60.00</td><td>1</td></tr>\n",
       "\t<tr><td>⋮</td><td>⋮</td><td>⋮</td><td>⋮</td><td>⋮</td><td>⋮</td><td>⋮</td><td>⋮</td><td>⋮</td></tr>\n",
       "\t<tr><td>97.504</td><td>27.504</td><td>86.880</td><td>17.752</td><td>84.256</td><td>101.88</td><td>0.000</td><td>78.76</td><td>4</td></tr>\n",
       "\t<tr><td>58.640</td><td>19.728</td><td>95.728</td><td> 9.728</td><td>94.592</td><td> 84.32</td><td>6.728</td><td>59.32</td><td>1</td></tr>\n",
       "\t<tr><td>73.920</td><td>21.392</td><td>93.392</td><td>11.392</td><td>91.392</td><td> 91.96</td><td>4.088</td><td>63.48</td><td>2</td></tr>\n",
       "</tbody>\n",
       "</table>\n"
      ],
      "text/latex": [
       "A spec\\_tbl\\_df: 630 × 9\n",
       "\\begin{tabular}{lllllllll}\n",
       " sr & rr & t & lm & bo & rem & sr\\_1 & hr & sl\\\\\n",
       " <dbl> & <dbl> & <dbl> & <dbl> & <dbl> & <dbl> & <dbl> & <dbl> & <dbl>\\\\\n",
       "\\hline\n",
       "\t 93.80 & 25.680 & 91.840 & 16.60 & 89.840 & 99.60 & 1.840 & 74.20 & 3\\\\\n",
       "\t 91.64 & 25.104 & 91.552 & 15.88 & 89.552 & 98.88 & 1.552 & 72.76 & 3\\\\\n",
       "\t 60.00 & 20.000 & 96.000 & 10.00 & 95.000 & 85.00 & 7.000 & 60.00 & 1\\\\\n",
       "\t ⋮ & ⋮ & ⋮ & ⋮ & ⋮ & ⋮ & ⋮ & ⋮ & ⋮\\\\\n",
       "\t 97.504 & 27.504 & 86.880 & 17.752 & 84.256 & 101.88 & 0.000 & 78.76 & 4\\\\\n",
       "\t 58.640 & 19.728 & 95.728 &  9.728 & 94.592 &  84.32 & 6.728 & 59.32 & 1\\\\\n",
       "\t 73.920 & 21.392 & 93.392 & 11.392 & 91.392 &  91.96 & 4.088 & 63.48 & 2\\\\\n",
       "\\end{tabular}\n"
      ],
      "text/markdown": [
       "\n",
       "A spec_tbl_df: 630 × 9\n",
       "\n",
       "| sr &lt;dbl&gt; | rr &lt;dbl&gt; | t &lt;dbl&gt; | lm &lt;dbl&gt; | bo &lt;dbl&gt; | rem &lt;dbl&gt; | sr_1 &lt;dbl&gt; | hr &lt;dbl&gt; | sl &lt;dbl&gt; |\n",
       "|---|---|---|---|---|---|---|---|---|\n",
       "| 93.80 | 25.680 | 91.840 | 16.60 | 89.840 | 99.60 | 1.840 | 74.20 | 3 |\n",
       "| 91.64 | 25.104 | 91.552 | 15.88 | 89.552 | 98.88 | 1.552 | 72.76 | 3 |\n",
       "| 60.00 | 20.000 | 96.000 | 10.00 | 95.000 | 85.00 | 7.000 | 60.00 | 1 |\n",
       "| ⋮ | ⋮ | ⋮ | ⋮ | ⋮ | ⋮ | ⋮ | ⋮ | ⋮ |\n",
       "| 97.504 | 27.504 | 86.880 | 17.752 | 84.256 | 101.88 | 0.000 | 78.76 | 4 |\n",
       "| 58.640 | 19.728 | 95.728 |  9.728 | 94.592 |  84.32 | 6.728 | 59.32 | 1 |\n",
       "| 73.920 | 21.392 | 93.392 | 11.392 | 91.392 |  91.96 | 4.088 | 63.48 | 2 |\n",
       "\n"
      ],
      "text/plain": [
       "    sr     rr     t      lm     bo     rem    sr_1  hr    sl\n",
       "1   93.80  25.680 91.840 16.60  89.840 99.60  1.840 74.20 3 \n",
       "2   91.64  25.104 91.552 15.88  89.552 98.88  1.552 72.76 3 \n",
       "3   60.00  20.000 96.000 10.00  95.000 85.00  7.000 60.00 1 \n",
       "⋮   ⋮      ⋮      ⋮      ⋮      ⋮      ⋮      ⋮     ⋮     ⋮ \n",
       "628 97.504 27.504 86.880 17.752 84.256 101.88 0.000 78.76 4 \n",
       "629 58.640 19.728 95.728  9.728 94.592  84.32 6.728 59.32 1 \n",
       "630 73.920 21.392 93.392 11.392 91.392  91.96 4.088 63.48 2 "
      ]
     },
     "metadata": {},
     "output_type": "display_data"
    }
   ],
   "source": [
    "url <- \"https://raw.githubusercontent.com/Morganfrey16/DSCI-Group-Project/main/SaYoPillow.csv\"\n",
    "sleep_data <- read_csv(url)\n",
    "sleep_data"
   ]
  },
  {
   "cell_type": "code",
   "execution_count": 10,
   "metadata": {},
   "outputs": [
    {
     "data": {
      "text/html": [
       "<table>\n",
       "<caption>A spec_tbl_df: 630 × 9</caption>\n",
       "<thead>\n",
       "\t<tr><th scope=col>snoring_rate</th><th scope=col>respiratory_rate</th><th scope=col>body_temp</th><th scope=col>limb_movement</th><th scope=col>blood_oxygen</th><th scope=col>eye_movement</th><th scope=col>sleep_hours</th><th scope=col>heart_rate</th><th scope=col>stress_levels</th></tr>\n",
       "\t<tr><th scope=col>&lt;dbl&gt;</th><th scope=col>&lt;dbl&gt;</th><th scope=col>&lt;dbl&gt;</th><th scope=col>&lt;dbl&gt;</th><th scope=col>&lt;dbl&gt;</th><th scope=col>&lt;dbl&gt;</th><th scope=col>&lt;dbl&gt;</th><th scope=col>&lt;dbl&gt;</th><th scope=col>&lt;dbl&gt;</th></tr>\n",
       "</thead>\n",
       "<tbody>\n",
       "\t<tr><td>93.80</td><td>25.680</td><td>91.840</td><td>16.60</td><td>89.840</td><td>99.60</td><td>1.840</td><td>74.20</td><td>3</td></tr>\n",
       "\t<tr><td>91.64</td><td>25.104</td><td>91.552</td><td>15.88</td><td>89.552</td><td>98.88</td><td>1.552</td><td>72.76</td><td>3</td></tr>\n",
       "\t<tr><td>60.00</td><td>20.000</td><td>96.000</td><td>10.00</td><td>95.000</td><td>85.00</td><td>7.000</td><td>60.00</td><td>1</td></tr>\n",
       "\t<tr><td>⋮</td><td>⋮</td><td>⋮</td><td>⋮</td><td>⋮</td><td>⋮</td><td>⋮</td><td>⋮</td><td>⋮</td></tr>\n",
       "\t<tr><td>97.504</td><td>27.504</td><td>86.880</td><td>17.752</td><td>84.256</td><td>101.88</td><td>0.000</td><td>78.76</td><td>4</td></tr>\n",
       "\t<tr><td>58.640</td><td>19.728</td><td>95.728</td><td> 9.728</td><td>94.592</td><td> 84.32</td><td>6.728</td><td>59.32</td><td>1</td></tr>\n",
       "\t<tr><td>73.920</td><td>21.392</td><td>93.392</td><td>11.392</td><td>91.392</td><td> 91.96</td><td>4.088</td><td>63.48</td><td>2</td></tr>\n",
       "</tbody>\n",
       "</table>\n"
      ],
      "text/latex": [
       "A spec\\_tbl\\_df: 630 × 9\n",
       "\\begin{tabular}{lllllllll}\n",
       " snoring\\_rate & respiratory\\_rate & body\\_temp & limb\\_movement & blood\\_oxygen & eye\\_movement & sleep\\_hours & heart\\_rate & stress\\_levels\\\\\n",
       " <dbl> & <dbl> & <dbl> & <dbl> & <dbl> & <dbl> & <dbl> & <dbl> & <dbl>\\\\\n",
       "\\hline\n",
       "\t 93.80 & 25.680 & 91.840 & 16.60 & 89.840 & 99.60 & 1.840 & 74.20 & 3\\\\\n",
       "\t 91.64 & 25.104 & 91.552 & 15.88 & 89.552 & 98.88 & 1.552 & 72.76 & 3\\\\\n",
       "\t 60.00 & 20.000 & 96.000 & 10.00 & 95.000 & 85.00 & 7.000 & 60.00 & 1\\\\\n",
       "\t ⋮ & ⋮ & ⋮ & ⋮ & ⋮ & ⋮ & ⋮ & ⋮ & ⋮\\\\\n",
       "\t 97.504 & 27.504 & 86.880 & 17.752 & 84.256 & 101.88 & 0.000 & 78.76 & 4\\\\\n",
       "\t 58.640 & 19.728 & 95.728 &  9.728 & 94.592 &  84.32 & 6.728 & 59.32 & 1\\\\\n",
       "\t 73.920 & 21.392 & 93.392 & 11.392 & 91.392 &  91.96 & 4.088 & 63.48 & 2\\\\\n",
       "\\end{tabular}\n"
      ],
      "text/markdown": [
       "\n",
       "A spec_tbl_df: 630 × 9\n",
       "\n",
       "| snoring_rate &lt;dbl&gt; | respiratory_rate &lt;dbl&gt; | body_temp &lt;dbl&gt; | limb_movement &lt;dbl&gt; | blood_oxygen &lt;dbl&gt; | eye_movement &lt;dbl&gt; | sleep_hours &lt;dbl&gt; | heart_rate &lt;dbl&gt; | stress_levels &lt;dbl&gt; |\n",
       "|---|---|---|---|---|---|---|---|---|\n",
       "| 93.80 | 25.680 | 91.840 | 16.60 | 89.840 | 99.60 | 1.840 | 74.20 | 3 |\n",
       "| 91.64 | 25.104 | 91.552 | 15.88 | 89.552 | 98.88 | 1.552 | 72.76 | 3 |\n",
       "| 60.00 | 20.000 | 96.000 | 10.00 | 95.000 | 85.00 | 7.000 | 60.00 | 1 |\n",
       "| ⋮ | ⋮ | ⋮ | ⋮ | ⋮ | ⋮ | ⋮ | ⋮ | ⋮ |\n",
       "| 97.504 | 27.504 | 86.880 | 17.752 | 84.256 | 101.88 | 0.000 | 78.76 | 4 |\n",
       "| 58.640 | 19.728 | 95.728 |  9.728 | 94.592 |  84.32 | 6.728 | 59.32 | 1 |\n",
       "| 73.920 | 21.392 | 93.392 | 11.392 | 91.392 |  91.96 | 4.088 | 63.48 | 2 |\n",
       "\n"
      ],
      "text/plain": [
       "    snoring_rate respiratory_rate body_temp limb_movement blood_oxygen\n",
       "1   93.80        25.680           91.840    16.60         89.840      \n",
       "2   91.64        25.104           91.552    15.88         89.552      \n",
       "3   60.00        20.000           96.000    10.00         95.000      \n",
       "⋮   ⋮            ⋮                ⋮         ⋮             ⋮           \n",
       "628 97.504       27.504           86.880    17.752        84.256      \n",
       "629 58.640       19.728           95.728     9.728        94.592      \n",
       "630 73.920       21.392           93.392    11.392        91.392      \n",
       "    eye_movement sleep_hours heart_rate stress_levels\n",
       "1   99.60        1.840       74.20      3            \n",
       "2   98.88        1.552       72.76      3            \n",
       "3   85.00        7.000       60.00      1            \n",
       "⋮   ⋮            ⋮           ⋮          ⋮            \n",
       "628 101.88       0.000       78.76      4            \n",
       "629  84.32       6.728       59.32      1            \n",
       "630  91.96       4.088       63.48      2            "
      ]
     },
     "metadata": {},
     "output_type": "display_data"
    }
   ],
   "source": [
    "sleep_data_renamed <- rename(sleep_data, \n",
    "                            snoring_rate = sr,\n",
    "                            respiratory_rate = rr, \n",
    "                            body_temp = t,\n",
    "                            limb_movement = lm,\n",
    "                            blood_oxygen = bo,\n",
    "                            eye_movement = rem,\n",
    "                            sleep_hours = sr_1,\n",
    "                            heart_rate = hr,\n",
    "                            stress_levels = sl)\n",
    "sleep_data_renamed"
   ]
  },
  {
   "cell_type": "markdown",
   "metadata": {},
   "source": [
    "We thought it was important to rename the coloumns in the dataset so that it was clear what each predictor represents."
   ]
  },
  {
   "cell_type": "code",
   "execution_count": 11,
   "metadata": {},
   "outputs": [
    {
     "data": {
      "text/html": [
       "<table>\n",
       "<caption>A spec_tbl_df: 630 × 9</caption>\n",
       "<thead>\n",
       "\t<tr><th scope=col>snoring_rate</th><th scope=col>respiratory_rate</th><th scope=col>body_temp</th><th scope=col>limb_movement</th><th scope=col>blood_oxygen</th><th scope=col>eye_movement</th><th scope=col>sleep_hours</th><th scope=col>heart_rate</th><th scope=col>stress_levels</th></tr>\n",
       "\t<tr><th scope=col>&lt;dbl&gt;</th><th scope=col>&lt;dbl&gt;</th><th scope=col>&lt;dbl&gt;</th><th scope=col>&lt;dbl&gt;</th><th scope=col>&lt;dbl&gt;</th><th scope=col>&lt;dbl&gt;</th><th scope=col>&lt;dbl&gt;</th><th scope=col>&lt;dbl&gt;</th><th scope=col>&lt;fct&gt;</th></tr>\n",
       "</thead>\n",
       "<tbody>\n",
       "\t<tr><td>93.80</td><td>25.680</td><td>91.840</td><td>16.60</td><td>89.840</td><td>99.60</td><td>1.840</td><td>74.20</td><td>3</td></tr>\n",
       "\t<tr><td>91.64</td><td>25.104</td><td>91.552</td><td>15.88</td><td>89.552</td><td>98.88</td><td>1.552</td><td>72.76</td><td>3</td></tr>\n",
       "\t<tr><td>60.00</td><td>20.000</td><td>96.000</td><td>10.00</td><td>95.000</td><td>85.00</td><td>7.000</td><td>60.00</td><td>1</td></tr>\n",
       "\t<tr><td>⋮</td><td>⋮</td><td>⋮</td><td>⋮</td><td>⋮</td><td>⋮</td><td>⋮</td><td>⋮</td><td>⋮</td></tr>\n",
       "\t<tr><td>97.504</td><td>27.504</td><td>86.880</td><td>17.752</td><td>84.256</td><td>101.88</td><td>0.000</td><td>78.76</td><td>4</td></tr>\n",
       "\t<tr><td>58.640</td><td>19.728</td><td>95.728</td><td> 9.728</td><td>94.592</td><td> 84.32</td><td>6.728</td><td>59.32</td><td>1</td></tr>\n",
       "\t<tr><td>73.920</td><td>21.392</td><td>93.392</td><td>11.392</td><td>91.392</td><td> 91.96</td><td>4.088</td><td>63.48</td><td>2</td></tr>\n",
       "</tbody>\n",
       "</table>\n"
      ],
      "text/latex": [
       "A spec\\_tbl\\_df: 630 × 9\n",
       "\\begin{tabular}{lllllllll}\n",
       " snoring\\_rate & respiratory\\_rate & body\\_temp & limb\\_movement & blood\\_oxygen & eye\\_movement & sleep\\_hours & heart\\_rate & stress\\_levels\\\\\n",
       " <dbl> & <dbl> & <dbl> & <dbl> & <dbl> & <dbl> & <dbl> & <dbl> & <fct>\\\\\n",
       "\\hline\n",
       "\t 93.80 & 25.680 & 91.840 & 16.60 & 89.840 & 99.60 & 1.840 & 74.20 & 3\\\\\n",
       "\t 91.64 & 25.104 & 91.552 & 15.88 & 89.552 & 98.88 & 1.552 & 72.76 & 3\\\\\n",
       "\t 60.00 & 20.000 & 96.000 & 10.00 & 95.000 & 85.00 & 7.000 & 60.00 & 1\\\\\n",
       "\t ⋮ & ⋮ & ⋮ & ⋮ & ⋮ & ⋮ & ⋮ & ⋮ & ⋮\\\\\n",
       "\t 97.504 & 27.504 & 86.880 & 17.752 & 84.256 & 101.88 & 0.000 & 78.76 & 4\\\\\n",
       "\t 58.640 & 19.728 & 95.728 &  9.728 & 94.592 &  84.32 & 6.728 & 59.32 & 1\\\\\n",
       "\t 73.920 & 21.392 & 93.392 & 11.392 & 91.392 &  91.96 & 4.088 & 63.48 & 2\\\\\n",
       "\\end{tabular}\n"
      ],
      "text/markdown": [
       "\n",
       "A spec_tbl_df: 630 × 9\n",
       "\n",
       "| snoring_rate &lt;dbl&gt; | respiratory_rate &lt;dbl&gt; | body_temp &lt;dbl&gt; | limb_movement &lt;dbl&gt; | blood_oxygen &lt;dbl&gt; | eye_movement &lt;dbl&gt; | sleep_hours &lt;dbl&gt; | heart_rate &lt;dbl&gt; | stress_levels &lt;fct&gt; |\n",
       "|---|---|---|---|---|---|---|---|---|\n",
       "| 93.80 | 25.680 | 91.840 | 16.60 | 89.840 | 99.60 | 1.840 | 74.20 | 3 |\n",
       "| 91.64 | 25.104 | 91.552 | 15.88 | 89.552 | 98.88 | 1.552 | 72.76 | 3 |\n",
       "| 60.00 | 20.000 | 96.000 | 10.00 | 95.000 | 85.00 | 7.000 | 60.00 | 1 |\n",
       "| ⋮ | ⋮ | ⋮ | ⋮ | ⋮ | ⋮ | ⋮ | ⋮ | ⋮ |\n",
       "| 97.504 | 27.504 | 86.880 | 17.752 | 84.256 | 101.88 | 0.000 | 78.76 | 4 |\n",
       "| 58.640 | 19.728 | 95.728 |  9.728 | 94.592 |  84.32 | 6.728 | 59.32 | 1 |\n",
       "| 73.920 | 21.392 | 93.392 | 11.392 | 91.392 |  91.96 | 4.088 | 63.48 | 2 |\n",
       "\n"
      ],
      "text/plain": [
       "    snoring_rate respiratory_rate body_temp limb_movement blood_oxygen\n",
       "1   93.80        25.680           91.840    16.60         89.840      \n",
       "2   91.64        25.104           91.552    15.88         89.552      \n",
       "3   60.00        20.000           96.000    10.00         95.000      \n",
       "⋮   ⋮            ⋮                ⋮         ⋮             ⋮           \n",
       "628 97.504       27.504           86.880    17.752        84.256      \n",
       "629 58.640       19.728           95.728     9.728        94.592      \n",
       "630 73.920       21.392           93.392    11.392        91.392      \n",
       "    eye_movement sleep_hours heart_rate stress_levels\n",
       "1   99.60        1.840       74.20      3            \n",
       "2   98.88        1.552       72.76      3            \n",
       "3   85.00        7.000       60.00      1            \n",
       "⋮   ⋮            ⋮           ⋮          ⋮            \n",
       "628 101.88       0.000       78.76      4            \n",
       "629  84.32       6.728       59.32      1            \n",
       "630  91.96       4.088       63.48      2            "
      ]
     },
     "metadata": {},
     "output_type": "display_data"
    }
   ],
   "source": [
    "sleep_data_mutated <- mutate(sleep_data_renamed, stress_levels = as_factor(stress_levels))\n",
    "sleep_data_mutated"
   ]
  },
  {
   "cell_type": "markdown",
   "metadata": {},
   "source": [
    "Although stress levels is a numeric value, it is expressed on a scale from 0 to 4 (0- low/normal, 1 – medium low, 2- medium, 3-medium high, 4 -high), hence we thought it would be better to express it as a factor so that it would be clear and visible in our visulization."
   ]
  },
  {
   "cell_type": "code",
   "execution_count": 12,
   "metadata": {},
   "outputs": [
    {
     "data": {
      "text/html": [
       "<table>\n",
       "<caption>A tibble: 630 × 5</caption>\n",
       "<thead>\n",
       "\t<tr><th scope=col>sleep_hours</th><th scope=col>heart_rate</th><th scope=col>respiratory_rate</th><th scope=col>body_temp</th><th scope=col>stress_levels</th></tr>\n",
       "\t<tr><th scope=col>&lt;dbl&gt;</th><th scope=col>&lt;dbl&gt;</th><th scope=col>&lt;dbl&gt;</th><th scope=col>&lt;dbl&gt;</th><th scope=col>&lt;fct&gt;</th></tr>\n",
       "</thead>\n",
       "<tbody>\n",
       "\t<tr><td>1.840</td><td>74.20</td><td>25.680</td><td>91.840</td><td>3</td></tr>\n",
       "\t<tr><td>1.552</td><td>72.76</td><td>25.104</td><td>91.552</td><td>3</td></tr>\n",
       "\t<tr><td>7.000</td><td>60.00</td><td>20.000</td><td>96.000</td><td>1</td></tr>\n",
       "\t<tr><td>⋮</td><td>⋮</td><td>⋮</td><td>⋮</td><td>⋮</td></tr>\n",
       "\t<tr><td>0.000</td><td>78.76</td><td>27.504</td><td>86.880</td><td>4</td></tr>\n",
       "\t<tr><td>6.728</td><td>59.32</td><td>19.728</td><td>95.728</td><td>1</td></tr>\n",
       "\t<tr><td>4.088</td><td>63.48</td><td>21.392</td><td>93.392</td><td>2</td></tr>\n",
       "</tbody>\n",
       "</table>\n"
      ],
      "text/latex": [
       "A tibble: 630 × 5\n",
       "\\begin{tabular}{lllll}\n",
       " sleep\\_hours & heart\\_rate & respiratory\\_rate & body\\_temp & stress\\_levels\\\\\n",
       " <dbl> & <dbl> & <dbl> & <dbl> & <fct>\\\\\n",
       "\\hline\n",
       "\t 1.840 & 74.20 & 25.680 & 91.840 & 3\\\\\n",
       "\t 1.552 & 72.76 & 25.104 & 91.552 & 3\\\\\n",
       "\t 7.000 & 60.00 & 20.000 & 96.000 & 1\\\\\n",
       "\t ⋮ & ⋮ & ⋮ & ⋮ & ⋮\\\\\n",
       "\t 0.000 & 78.76 & 27.504 & 86.880 & 4\\\\\n",
       "\t 6.728 & 59.32 & 19.728 & 95.728 & 1\\\\\n",
       "\t 4.088 & 63.48 & 21.392 & 93.392 & 2\\\\\n",
       "\\end{tabular}\n"
      ],
      "text/markdown": [
       "\n",
       "A tibble: 630 × 5\n",
       "\n",
       "| sleep_hours &lt;dbl&gt; | heart_rate &lt;dbl&gt; | respiratory_rate &lt;dbl&gt; | body_temp &lt;dbl&gt; | stress_levels &lt;fct&gt; |\n",
       "|---|---|---|---|---|\n",
       "| 1.840 | 74.20 | 25.680 | 91.840 | 3 |\n",
       "| 1.552 | 72.76 | 25.104 | 91.552 | 3 |\n",
       "| 7.000 | 60.00 | 20.000 | 96.000 | 1 |\n",
       "| ⋮ | ⋮ | ⋮ | ⋮ | ⋮ |\n",
       "| 0.000 | 78.76 | 27.504 | 86.880 | 4 |\n",
       "| 6.728 | 59.32 | 19.728 | 95.728 | 1 |\n",
       "| 4.088 | 63.48 | 21.392 | 93.392 | 2 |\n",
       "\n"
      ],
      "text/plain": [
       "    sleep_hours heart_rate respiratory_rate body_temp stress_levels\n",
       "1   1.840       74.20      25.680           91.840    3            \n",
       "2   1.552       72.76      25.104           91.552    3            \n",
       "3   7.000       60.00      20.000           96.000    1            \n",
       "⋮   ⋮           ⋮          ⋮                ⋮         ⋮            \n",
       "628 0.000       78.76      27.504           86.880    4            \n",
       "629 6.728       59.32      19.728           95.728    1            \n",
       "630 4.088       63.48      21.392           93.392    2            "
      ]
     },
     "metadata": {},
     "output_type": "display_data"
    }
   ],
   "source": [
    "selected_coloumns <- select(sleep_data_mutated, sleep_hours, heart_rate, respiratory_rate, body_temp, stress_levels)        \n",
    "selected_coloumns"
   ]
  },
  {
   "cell_type": "markdown",
   "metadata": {},
   "source": [
    "We selected the above four variables to visualize against stress levels (Hours of sleep, Heart rate, respiratory rate and body temperature during sleep) to decide whether they can be used as good predictors for stress."
   ]
  },
  {
   "cell_type": "code",
   "execution_count": 13,
   "metadata": {},
   "outputs": [
    {
     "data": {
      "text/html": [
       "<table>\n",
       "<caption>A tibble: 475 × 5</caption>\n",
       "<thead>\n",
       "\t<tr><th scope=col>sleep_hours</th><th scope=col>heart_rate</th><th scope=col>respiratory_rate</th><th scope=col>body_temp</th><th scope=col>stress_levels</th></tr>\n",
       "\t<tr><th scope=col>&lt;dbl&gt;</th><th scope=col>&lt;dbl&gt;</th><th scope=col>&lt;dbl&gt;</th><th scope=col>&lt;dbl&gt;</th><th scope=col>&lt;fct&gt;</th></tr>\n",
       "</thead>\n",
       "<tbody>\n",
       "\t<tr><td>1.840</td><td>74.20</td><td>25.680</td><td>91.840</td><td>3</td></tr>\n",
       "\t<tr><td>1.552</td><td>72.76</td><td>25.104</td><td>91.552</td><td>3</td></tr>\n",
       "\t<tr><td>7.000</td><td>60.00</td><td>20.000</td><td>96.000</td><td>1</td></tr>\n",
       "\t<tr><td>⋮</td><td>⋮</td><td>⋮</td><td>⋮</td><td>⋮</td></tr>\n",
       "\t<tr><td>0.000</td><td>78.76</td><td>27.504</td><td>86.880</td><td>4</td></tr>\n",
       "\t<tr><td>6.728</td><td>59.32</td><td>19.728</td><td>95.728</td><td>1</td></tr>\n",
       "\t<tr><td>4.088</td><td>63.48</td><td>21.392</td><td>93.392</td><td>2</td></tr>\n",
       "</tbody>\n",
       "</table>\n"
      ],
      "text/latex": [
       "A tibble: 475 × 5\n",
       "\\begin{tabular}{lllll}\n",
       " sleep\\_hours & heart\\_rate & respiratory\\_rate & body\\_temp & stress\\_levels\\\\\n",
       " <dbl> & <dbl> & <dbl> & <dbl> & <fct>\\\\\n",
       "\\hline\n",
       "\t 1.840 & 74.20 & 25.680 & 91.840 & 3\\\\\n",
       "\t 1.552 & 72.76 & 25.104 & 91.552 & 3\\\\\n",
       "\t 7.000 & 60.00 & 20.000 & 96.000 & 1\\\\\n",
       "\t ⋮ & ⋮ & ⋮ & ⋮ & ⋮\\\\\n",
       "\t 0.000 & 78.76 & 27.504 & 86.880 & 4\\\\\n",
       "\t 6.728 & 59.32 & 19.728 & 95.728 & 1\\\\\n",
       "\t 4.088 & 63.48 & 21.392 & 93.392 & 2\\\\\n",
       "\\end{tabular}\n"
      ],
      "text/markdown": [
       "\n",
       "A tibble: 475 × 5\n",
       "\n",
       "| sleep_hours &lt;dbl&gt; | heart_rate &lt;dbl&gt; | respiratory_rate &lt;dbl&gt; | body_temp &lt;dbl&gt; | stress_levels &lt;fct&gt; |\n",
       "|---|---|---|---|---|\n",
       "| 1.840 | 74.20 | 25.680 | 91.840 | 3 |\n",
       "| 1.552 | 72.76 | 25.104 | 91.552 | 3 |\n",
       "| 7.000 | 60.00 | 20.000 | 96.000 | 1 |\n",
       "| ⋮ | ⋮ | ⋮ | ⋮ | ⋮ |\n",
       "| 0.000 | 78.76 | 27.504 | 86.880 | 4 |\n",
       "| 6.728 | 59.32 | 19.728 | 95.728 | 1 |\n",
       "| 4.088 | 63.48 | 21.392 | 93.392 | 2 |\n",
       "\n"
      ],
      "text/plain": [
       "    sleep_hours heart_rate respiratory_rate body_temp stress_levels\n",
       "1   1.840       74.20      25.680           91.840    3            \n",
       "2   1.552       72.76      25.104           91.552    3            \n",
       "3   7.000       60.00      20.000           96.000    1            \n",
       "⋮   ⋮           ⋮          ⋮                ⋮         ⋮            \n",
       "473 0.000       78.76      27.504           86.880    4            \n",
       "474 6.728       59.32      19.728           95.728    1            \n",
       "475 4.088       63.48      21.392           93.392    2            "
      ]
     },
     "metadata": {},
     "output_type": "display_data"
    },
    {
     "data": {
      "text/html": [
       "<table>\n",
       "<caption>A tibble: 155 × 5</caption>\n",
       "<thead>\n",
       "\t<tr><th scope=col>sleep_hours</th><th scope=col>heart_rate</th><th scope=col>respiratory_rate</th><th scope=col>body_temp</th><th scope=col>stress_levels</th></tr>\n",
       "\t<tr><th scope=col>&lt;dbl&gt;</th><th scope=col>&lt;dbl&gt;</th><th scope=col>&lt;dbl&gt;</th><th scope=col>&lt;dbl&gt;</th><th scope=col>&lt;fct&gt;</th></tr>\n",
       "</thead>\n",
       "<tbody>\n",
       "\t<tr><td>8.248</td><td>53.12</td><td>17.248</td><td>97.872</td><td>0</td></tr>\n",
       "\t<tr><td>6.104</td><td>57.76</td><td>19.104</td><td>95.104</td><td>1</td></tr>\n",
       "\t<tr><td>4.016</td><td>63.36</td><td>21.344</td><td>93.344</td><td>2</td></tr>\n",
       "\t<tr><td>⋮</td><td>⋮</td><td>⋮</td><td>⋮</td><td>⋮</td></tr>\n",
       "\t<tr><td>1.184</td><td>70.92</td><td>24.368</td><td>91.184</td><td>3</td></tr>\n",
       "\t<tr><td>0.000</td><td>80.36</td><td>28.144</td><td>87.680</td><td>4</td></tr>\n",
       "\t<tr><td>6.760</td><td>59.40</td><td>19.760</td><td>95.760</td><td>1</td></tr>\n",
       "</tbody>\n",
       "</table>\n"
      ],
      "text/latex": [
       "A tibble: 155 × 5\n",
       "\\begin{tabular}{lllll}\n",
       " sleep\\_hours & heart\\_rate & respiratory\\_rate & body\\_temp & stress\\_levels\\\\\n",
       " <dbl> & <dbl> & <dbl> & <dbl> & <fct>\\\\\n",
       "\\hline\n",
       "\t 8.248 & 53.12 & 17.248 & 97.872 & 0\\\\\n",
       "\t 6.104 & 57.76 & 19.104 & 95.104 & 1\\\\\n",
       "\t 4.016 & 63.36 & 21.344 & 93.344 & 2\\\\\n",
       "\t ⋮ & ⋮ & ⋮ & ⋮ & ⋮\\\\\n",
       "\t 1.184 & 70.92 & 24.368 & 91.184 & 3\\\\\n",
       "\t 0.000 & 80.36 & 28.144 & 87.680 & 4\\\\\n",
       "\t 6.760 & 59.40 & 19.760 & 95.760 & 1\\\\\n",
       "\\end{tabular}\n"
      ],
      "text/markdown": [
       "\n",
       "A tibble: 155 × 5\n",
       "\n",
       "| sleep_hours &lt;dbl&gt; | heart_rate &lt;dbl&gt; | respiratory_rate &lt;dbl&gt; | body_temp &lt;dbl&gt; | stress_levels &lt;fct&gt; |\n",
       "|---|---|---|---|---|\n",
       "| 8.248 | 53.12 | 17.248 | 97.872 | 0 |\n",
       "| 6.104 | 57.76 | 19.104 | 95.104 | 1 |\n",
       "| 4.016 | 63.36 | 21.344 | 93.344 | 2 |\n",
       "| ⋮ | ⋮ | ⋮ | ⋮ | ⋮ |\n",
       "| 1.184 | 70.92 | 24.368 | 91.184 | 3 |\n",
       "| 0.000 | 80.36 | 28.144 | 87.680 | 4 |\n",
       "| 6.760 | 59.40 | 19.760 | 95.760 | 1 |\n",
       "\n"
      ],
      "text/plain": [
       "    sleep_hours heart_rate respiratory_rate body_temp stress_levels\n",
       "1   8.248       53.12      17.248           97.872    0            \n",
       "2   6.104       57.76      19.104           95.104    1            \n",
       "3   4.016       63.36      21.344           93.344    2            \n",
       "⋮   ⋮           ⋮          ⋮                ⋮         ⋮            \n",
       "153 1.184       70.92      24.368           91.184    3            \n",
       "154 0.000       80.36      28.144           87.680    4            \n",
       "155 6.760       59.40      19.760           95.760    1            "
      ]
     },
     "metadata": {},
     "output_type": "display_data"
    }
   ],
   "source": [
    "sleep_split <- initial_split(selected_coloumns, prop = 0.75, strata = stress_levels)\n",
    "sleep_train <- training(sleep_split)\n",
    "sleep_test <- testing(sleep_split)\n",
    "sleep_train\n",
    "sleep_test"
   ]
  },
  {
   "cell_type": "code",
   "execution_count": 14,
   "metadata": {},
   "outputs": [
    {
     "data": {
      "text/html": [
       "<table>\n",
       "<caption>A tibble: 1 × 4</caption>\n",
       "<thead>\n",
       "\t<tr><th scope=col>sleep_hours</th><th scope=col>heart_rate</th><th scope=col>respiratory_rate</th><th scope=col>body_temp</th></tr>\n",
       "\t<tr><th scope=col>&lt;dbl&gt;</th><th scope=col>&lt;dbl&gt;</th><th scope=col>&lt;dbl&gt;</th><th scope=col>&lt;dbl&gt;</th></tr>\n",
       "</thead>\n",
       "<tbody>\n",
       "\t<tr><td>3.71296</td><td>64.49996</td><td>21.79998</td><td>92.79532</td></tr>\n",
       "</tbody>\n",
       "</table>\n"
      ],
      "text/latex": [
       "A tibble: 1 × 4\n",
       "\\begin{tabular}{llll}\n",
       " sleep\\_hours & heart\\_rate & respiratory\\_rate & body\\_temp\\\\\n",
       " <dbl> & <dbl> & <dbl> & <dbl>\\\\\n",
       "\\hline\n",
       "\t 3.71296 & 64.49996 & 21.79998 & 92.79532\\\\\n",
       "\\end{tabular}\n"
      ],
      "text/markdown": [
       "\n",
       "A tibble: 1 × 4\n",
       "\n",
       "| sleep_hours &lt;dbl&gt; | heart_rate &lt;dbl&gt; | respiratory_rate &lt;dbl&gt; | body_temp &lt;dbl&gt; |\n",
       "|---|---|---|---|\n",
       "| 3.71296 | 64.49996 | 21.79998 | 92.79532 |\n",
       "\n"
      ],
      "text/plain": [
       "  sleep_hours heart_rate respiratory_rate body_temp\n",
       "1 3.71296     64.49996   21.79998         92.79532 "
      ]
     },
     "metadata": {},
     "output_type": "display_data"
    }
   ],
   "source": [
    "sleep_data_aggregate <- sleep_train %>%\n",
    "summarize(across(sleep_hours:body_temp, mean, na.rm = TRUE))\n",
    "sleep_data_aggregate"
   ]
  },
  {
   "cell_type": "code",
   "execution_count": 15,
   "metadata": {},
   "outputs": [
    {
     "data": {
      "text/html": [
       "<table>\n",
       "<caption>A tibble: 5 × 2</caption>\n",
       "<thead>\n",
       "\t<tr><th scope=col>stress_levels</th><th scope=col>n</th></tr>\n",
       "\t<tr><th scope=col>&lt;fct&gt;</th><th scope=col>&lt;int&gt;</th></tr>\n",
       "</thead>\n",
       "<tbody>\n",
       "\t<tr><td>0</td><td>95</td></tr>\n",
       "\t<tr><td>1</td><td>95</td></tr>\n",
       "\t<tr><td>2</td><td>95</td></tr>\n",
       "\t<tr><td>3</td><td>95</td></tr>\n",
       "\t<tr><td>4</td><td>95</td></tr>\n",
       "</tbody>\n",
       "</table>\n"
      ],
      "text/latex": [
       "A tibble: 5 × 2\n",
       "\\begin{tabular}{ll}\n",
       " stress\\_levels & n\\\\\n",
       " <fct> & <int>\\\\\n",
       "\\hline\n",
       "\t 0 & 95\\\\\n",
       "\t 1 & 95\\\\\n",
       "\t 2 & 95\\\\\n",
       "\t 3 & 95\\\\\n",
       "\t 4 & 95\\\\\n",
       "\\end{tabular}\n"
      ],
      "text/markdown": [
       "\n",
       "A tibble: 5 × 2\n",
       "\n",
       "| stress_levels &lt;fct&gt; | n &lt;int&gt; |\n",
       "|---|---|\n",
       "| 0 | 95 |\n",
       "| 1 | 95 |\n",
       "| 2 | 95 |\n",
       "| 3 | 95 |\n",
       "| 4 | 95 |\n",
       "\n"
      ],
      "text/plain": [
       "  stress_levels n \n",
       "1 0             95\n",
       "2 1             95\n",
       "3 2             95\n",
       "4 3             95\n",
       "5 4             95"
      ]
     },
     "metadata": {},
     "output_type": "display_data"
    }
   ],
   "source": [
    "sleep_data_aggregate_2 <- sleep_train %>%\n",
    "count(stress_levels)\n",
    "sleep_data_aggregate_2"
   ]
  },
  {
   "cell_type": "markdown",
   "metadata": {},
   "source": [
    "In the two tables above, we summarized the data in order to report the mean values of each of our predictor variables as well as to identify the number of observations present for each class of stress (0-4). "
   ]
  },
  {
   "cell_type": "code",
   "execution_count": 16,
   "metadata": {},
   "outputs": [
    {
     "data": {
      "image/png": "[encoded data removed]",
      "text/plain": [
       "plot without title"
      ]
     },
     "metadata": {
      "image/png": {
       "height": 480,
       "width": 480
      }
     },
     "output_type": "display_data"
    }
   ],
   "source": [
    "options(repr.plot.width = 8, repr.plot.height = 8) \n",
    "sleep_train_plot_1 <- ggplot(sleep_train, aes(x = stress_levels, y = sleep_hours, fill = stress_levels))+\n",
    "geom_bar(stat = \"identity\", position = \"dodge\") +\n",
    "xlab(\"Stress levels\") +\n",
    "ylab(\"Hours of Sleep\")\n",
    "sleep_train_plot_1"
   ]
  },
  {
   "cell_type": "markdown",
   "metadata": {},
   "source": [
    "The bar chart above illustartes the relationship between hours of sleep and stress levels. It evidently shows that as hours of sleep decreases, stress levels tend to increase. This relationship makes it suitable to use for classifying unknown values of stress. "
   ]
  },
  {
   "cell_type": "code",
   "execution_count": 17,
   "metadata": {},
   "outputs": [
    {
     "data": {
      "image/png": "[encoded data removed]",
      "text/plain": [
       "plot without title"
      ]
     },
     "metadata": {
      "image/png": {
       "height": 480,
       "width": 480
      }
     },
     "output_type": "display_data"
    }
   ],
   "source": [
    "options(repr.plot.width = 8, repr.plot.height = 8) \n",
    "sleep_train_plot_2 <- ggplot(sleep_train, aes(x = stress_levels, y = heart_rate, fill = stress_levels))+\n",
    "geom_bar(stat = \"identity\", position = \"dodge\") +\n",
    "xlab(\"Stress levels\") +\n",
    "ylab(\"Heart Rate (during sleep)\")\n",
    "sleep_train_plot_2"
   ]
  },
  {
   "cell_type": "markdown",
   "metadata": {},
   "source": [
    "This bar chart shows that as heart rate during sleep increases, stress levels proposed the following day tend to increase as well, confirming a relationship between the two variables. This makes heart rate a suitable variable for classifying stress levels."
   ]
  },
  {
   "cell_type": "code",
   "execution_count": 18,
   "metadata": {},
   "outputs": [
    {
     "data": {
      "image/png": "[encoded data removed]",
      "text/plain": [
       "plot without title"
      ]
     },
     "metadata": {
      "image/png": {
       "height": 480,
       "width": 480
      }
     },
     "output_type": "display_data"
    }
   ],
   "source": [
    "options(repr.plot.width = 8, repr.plot.height = 8) \n",
    "sleep_train_plot_3 <- ggplot(sleep_train, aes(x = stress_levels, y = respiratory_rate, fill = stress_levels))+\n",
    "geom_bar(stat = \"identity\", position = \"dodge\") +\n",
    "xlab(\"Stress levels\") +\n",
    "ylab(\"Respiratory Rate (during sleep)\")\n",
    "sleep_train_plot_3"
   ]
  },
  {
   "cell_type": "markdown",
   "metadata": {},
   "source": [
    "The relationship between respiratory rate and stress levels is also evident as shown in the bar chart above, as stress level increases with repiratory rate. This again makes this variable a suitable predictor for stress."
   ]
  },
  {
   "cell_type": "code",
   "execution_count": 19,
   "metadata": {},
   "outputs": [
    {
     "data": {
      "image/png": "[encoded data removed]",
      "text/plain": [
       "plot without title"
      ]
     },
     "metadata": {
      "image/png": {
       "height": 480,
       "width": 480
      }
     },
     "output_type": "display_data"
    }
   ],
   "source": [
    "options(repr.plot.width = 8, repr.plot.height = 8) \n",
    "sleep_train_plot_4 <- ggplot(sleep_train, aes(x = stress_levels, y = body_temp, fill = stress_levels))+\n",
    "geom_bar(stat = \"identity\", position = \"dodge\") +\n",
    "xlab(\"Stress levels\") +\n",
    "ylab(\"Body Temperature (during sleep)\")\n",
    "sleep_train_plot_4"
   ]
  },
  {
   "cell_type": "markdown",
   "metadata": {},
   "source": [
    "The bars are showing an increase in stress with decreasing body temperature, however, they are all quite similar with a few insigificant differences for each class of stress. Therefore, this means that this variable would not be as suitable for predicting stress levels in our classification model."
   ]
  },
  {
   "cell_type": "markdown",
   "metadata": {},
   "source": [
    "Methods:\n",
    "\n",
    "To conduct our data analysis, we have selected three suitable predictor variables that all have a strong relationship with stress levels. Based on the findings from the visualization, it was evident that stress levels increase as hours of sleep decrease, stress levels increase as heart rate increases and increases in respiratory rate also result in stress levels increasing. Therefore, our predictor variables are heart rate, respiratory rate and hours of sleep. In order to begin developing a knn classification model, we use our training dataset to preprocess the data by scaling and centering all three of our predictors, followed by creating our classifier using K-nearest neighbor. Next, we will train the classifier with our training set using the workflow() function. After creating our classifier, the last steps would be to predict the stress levels using our test dataset and finally testing our classfier's accuracy to determine the quality of our model."
   ]
  },
  {
   "cell_type": "markdown",
   "metadata": {},
   "source": [
    "Expected Outcomes and Significance:\n",
    "\n",
    "\n",
    "With this experiment, we expect to find that given a set of physiological readings ie. heart rate, snoring rate, and respiration rate, we will be able to accurately assign a number (0-4) corresponding to the level of stress a person goes through in a resting state.\n",
    "\n",
    "Using the results of this project we can delve deeper into understanding the human body in terms of how interconnected our involuntary physiological systems are and how they influence and indicate the level of stress our bodies are in. \n",
    "Utilizing the results of our analysis, we may be able to pose future questions about the impact other physiological indicators may have on our unconscious stress levels. We may want to explore data on medical drugs that can help stabilize factors that influence a higher level of stress while asleep. To further push the information from our data analysis, we may look into habitual change that may help regulate the physiological response our bodies have due to stressors. Through experimentation, we may be able to collect new data after incorporating new habits to further research the indication that specific physiological responses can give on unconscious stress levels. \n"
   ]
  },
  {
   "cell_type": "code",
   "execution_count": null,
   "metadata": {},
   "outputs": [],
   "source": []
  },
  {
   "cell_type": "markdown",
   "metadata": {},
   "source": []
  }
 ],
 "metadata": {
  "kernelspec": {
   "display_name": "R",
   "language": "R",
   "name": "ir"
  },
  "language_info": {
   "codemirror_mode": "r",
   "file_extension": ".r",
   "mimetype": "text/x-r-source",
   "name": "R",
   "pygments_lexer": "r",
   "version": "4.0.0"
  }
 },
 "nbformat": 4,
 "nbformat_minor": 4
}
