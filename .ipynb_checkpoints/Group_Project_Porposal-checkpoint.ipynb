{
 "cells": [
  {
   "cell_type": "code",
   "execution_count": 50,
   "metadata": {},
   "outputs": [],
   "source": [
    "library(tidyverse)\n",
    "library(repr)\n",
    "library(tidymodels)\n",
    "options(repr.matrix.max.rows = 6)"
   ]
  },
  {
   "cell_type": "code",
   "execution_count": 56,
   "metadata": {},
   "outputs": [
    {
     "data": {
      "text/html": [
       "<table>\n",
       "<caption>A data.frame: 630 × 9</caption>\n",
       "<thead>\n",
       "\t<tr><th scope=col>sr</th><th scope=col>rr</th><th scope=col>t</th><th scope=col>lm</th><th scope=col>bo</th><th scope=col>rem</th><th scope=col>sr.1</th><th scope=col>hr</th><th scope=col>sl</th></tr>\n",
       "\t<tr><th scope=col>&lt;dbl&gt;</th><th scope=col>&lt;dbl&gt;</th><th scope=col>&lt;dbl&gt;</th><th scope=col>&lt;dbl&gt;</th><th scope=col>&lt;dbl&gt;</th><th scope=col>&lt;dbl&gt;</th><th scope=col>&lt;dbl&gt;</th><th scope=col>&lt;dbl&gt;</th><th scope=col>&lt;int&gt;</th></tr>\n",
       "</thead>\n",
       "<tbody>\n",
       "\t<tr><td>93.80</td><td>25.680</td><td>91.840</td><td>16.60</td><td>89.840</td><td>99.60</td><td>1.840</td><td>74.20</td><td>3</td></tr>\n",
       "\t<tr><td>91.64</td><td>25.104</td><td>91.552</td><td>15.88</td><td>89.552</td><td>98.88</td><td>1.552</td><td>72.76</td><td>3</td></tr>\n",
       "\t<tr><td>60.00</td><td>20.000</td><td>96.000</td><td>10.00</td><td>95.000</td><td>85.00</td><td>7.000</td><td>60.00</td><td>1</td></tr>\n",
       "\t<tr><td>⋮</td><td>⋮</td><td>⋮</td><td>⋮</td><td>⋮</td><td>⋮</td><td>⋮</td><td>⋮</td><td>⋮</td></tr>\n",
       "\t<tr><td>97.504</td><td>27.504</td><td>86.880</td><td>17.752</td><td>84.256</td><td>101.88</td><td>0.000</td><td>78.76</td><td>4</td></tr>\n",
       "\t<tr><td>58.640</td><td>19.728</td><td>95.728</td><td> 9.728</td><td>94.592</td><td> 84.32</td><td>6.728</td><td>59.32</td><td>1</td></tr>\n",
       "\t<tr><td>73.920</td><td>21.392</td><td>93.392</td><td>11.392</td><td>91.392</td><td> 91.96</td><td>4.088</td><td>63.48</td><td>2</td></tr>\n",
       "</tbody>\n",
       "</table>\n"
      ],
      "text/latex": [
       "A data.frame: 630 × 9\n",
       "\\begin{tabular}{lllllllll}\n",
       " sr & rr & t & lm & bo & rem & sr.1 & hr & sl\\\\\n",
       " <dbl> & <dbl> & <dbl> & <dbl> & <dbl> & <dbl> & <dbl> & <dbl> & <int>\\\\\n",
       "\\hline\n",
       "\t 93.80 & 25.680 & 91.840 & 16.60 & 89.840 & 99.60 & 1.840 & 74.20 & 3\\\\\n",
       "\t 91.64 & 25.104 & 91.552 & 15.88 & 89.552 & 98.88 & 1.552 & 72.76 & 3\\\\\n",
       "\t 60.00 & 20.000 & 96.000 & 10.00 & 95.000 & 85.00 & 7.000 & 60.00 & 1\\\\\n",
       "\t ⋮ & ⋮ & ⋮ & ⋮ & ⋮ & ⋮ & ⋮ & ⋮ & ⋮\\\\\n",
       "\t 97.504 & 27.504 & 86.880 & 17.752 & 84.256 & 101.88 & 0.000 & 78.76 & 4\\\\\n",
       "\t 58.640 & 19.728 & 95.728 &  9.728 & 94.592 &  84.32 & 6.728 & 59.32 & 1\\\\\n",
       "\t 73.920 & 21.392 & 93.392 & 11.392 & 91.392 &  91.96 & 4.088 & 63.48 & 2\\\\\n",
       "\\end{tabular}\n"
      ],
      "text/markdown": [
       "\n",
       "A data.frame: 630 × 9\n",
       "\n",
       "| sr &lt;dbl&gt; | rr &lt;dbl&gt; | t &lt;dbl&gt; | lm &lt;dbl&gt; | bo &lt;dbl&gt; | rem &lt;dbl&gt; | sr.1 &lt;dbl&gt; | hr &lt;dbl&gt; | sl &lt;int&gt; |\n",
       "|---|---|---|---|---|---|---|---|---|\n",
       "| 93.80 | 25.680 | 91.840 | 16.60 | 89.840 | 99.60 | 1.840 | 74.20 | 3 |\n",
       "| 91.64 | 25.104 | 91.552 | 15.88 | 89.552 | 98.88 | 1.552 | 72.76 | 3 |\n",
       "| 60.00 | 20.000 | 96.000 | 10.00 | 95.000 | 85.00 | 7.000 | 60.00 | 1 |\n",
       "| ⋮ | ⋮ | ⋮ | ⋮ | ⋮ | ⋮ | ⋮ | ⋮ | ⋮ |\n",
       "| 97.504 | 27.504 | 86.880 | 17.752 | 84.256 | 101.88 | 0.000 | 78.76 | 4 |\n",
       "| 58.640 | 19.728 | 95.728 |  9.728 | 94.592 |  84.32 | 6.728 | 59.32 | 1 |\n",
       "| 73.920 | 21.392 | 93.392 | 11.392 | 91.392 |  91.96 | 4.088 | 63.48 | 2 |\n",
       "\n"
      ],
      "text/plain": [
       "    sr     rr     t      lm     bo     rem    sr.1  hr    sl\n",
       "1   93.80  25.680 91.840 16.60  89.840 99.60  1.840 74.20 3 \n",
       "2   91.64  25.104 91.552 15.88  89.552 98.88  1.552 72.76 3 \n",
       "3   60.00  20.000 96.000 10.00  95.000 85.00  7.000 60.00 1 \n",
       "⋮   ⋮      ⋮      ⋮      ⋮      ⋮      ⋮      ⋮     ⋮     ⋮ \n",
       "628 97.504 27.504 86.880 17.752 84.256 101.88 0.000 78.76 4 \n",
       "629 58.640 19.728 95.728  9.728 94.592  84.32 6.728 59.32 1 \n",
       "630 73.920 21.392 93.392 11.392 91.392  91.96 4.088 63.48 2 "
      ]
     },
     "metadata": {},
     "output_type": "display_data"
    }
   ],
   "source": [
    "id <- \"1K1gNOxeiYrkQlw_hhni3Xjuwgen_0ZAE\" # google drive file ID #\n",
    "sleep_data = read.csv(sprintf(\"https://docs.google.com/uc?id=%s&export=download\", id)) # Google drive export link #\n",
    "sleep_data"
   ]
  },
  {
   "cell_type": "code",
   "execution_count": 57,
   "metadata": {},
   "outputs": [],
   "source": [
    "# url <- \"https://www.kaggle.com/laavanya/human-stress-detection-in-and-through-sleep/download\"\n",
    "# sleep_data <- read_csv (url, skip = )\n",
    "# sleep_data"
   ]
  },
  {
   "cell_type": "code",
   "execution_count": 58,
   "metadata": {},
   "outputs": [
    {
     "data": {
      "text/html": [
       "<table>\n",
       "<caption>A data.frame: 630 × 9</caption>\n",
       "<thead>\n",
       "\t<tr><th scope=col>sr</th><th scope=col>rr</th><th scope=col>t</th><th scope=col>lm</th><th scope=col>bo</th><th scope=col>rem</th><th scope=col>sr.1</th><th scope=col>hr</th><th scope=col>sl</th></tr>\n",
       "\t<tr><th scope=col>&lt;dbl&gt;</th><th scope=col>&lt;dbl&gt;</th><th scope=col>&lt;dbl&gt;</th><th scope=col>&lt;dbl&gt;</th><th scope=col>&lt;dbl&gt;</th><th scope=col>&lt;dbl&gt;</th><th scope=col>&lt;dbl&gt;</th><th scope=col>&lt;dbl&gt;</th><th scope=col>&lt;fct&gt;</th></tr>\n",
       "</thead>\n",
       "<tbody>\n",
       "\t<tr><td>93.80</td><td>25.680</td><td>91.840</td><td>16.60</td><td>89.840</td><td>99.60</td><td>1.840</td><td>74.20</td><td>3</td></tr>\n",
       "\t<tr><td>91.64</td><td>25.104</td><td>91.552</td><td>15.88</td><td>89.552</td><td>98.88</td><td>1.552</td><td>72.76</td><td>3</td></tr>\n",
       "\t<tr><td>60.00</td><td>20.000</td><td>96.000</td><td>10.00</td><td>95.000</td><td>85.00</td><td>7.000</td><td>60.00</td><td>1</td></tr>\n",
       "\t<tr><td>⋮</td><td>⋮</td><td>⋮</td><td>⋮</td><td>⋮</td><td>⋮</td><td>⋮</td><td>⋮</td><td>⋮</td></tr>\n",
       "\t<tr><td>97.504</td><td>27.504</td><td>86.880</td><td>17.752</td><td>84.256</td><td>101.88</td><td>0.000</td><td>78.76</td><td>4</td></tr>\n",
       "\t<tr><td>58.640</td><td>19.728</td><td>95.728</td><td> 9.728</td><td>94.592</td><td> 84.32</td><td>6.728</td><td>59.32</td><td>1</td></tr>\n",
       "\t<tr><td>73.920</td><td>21.392</td><td>93.392</td><td>11.392</td><td>91.392</td><td> 91.96</td><td>4.088</td><td>63.48</td><td>2</td></tr>\n",
       "</tbody>\n",
       "</table>\n"
      ],
      "text/latex": [
       "A data.frame: 630 × 9\n",
       "\\begin{tabular}{lllllllll}\n",
       " sr & rr & t & lm & bo & rem & sr.1 & hr & sl\\\\\n",
       " <dbl> & <dbl> & <dbl> & <dbl> & <dbl> & <dbl> & <dbl> & <dbl> & <fct>\\\\\n",
       "\\hline\n",
       "\t 93.80 & 25.680 & 91.840 & 16.60 & 89.840 & 99.60 & 1.840 & 74.20 & 3\\\\\n",
       "\t 91.64 & 25.104 & 91.552 & 15.88 & 89.552 & 98.88 & 1.552 & 72.76 & 3\\\\\n",
       "\t 60.00 & 20.000 & 96.000 & 10.00 & 95.000 & 85.00 & 7.000 & 60.00 & 1\\\\\n",
       "\t ⋮ & ⋮ & ⋮ & ⋮ & ⋮ & ⋮ & ⋮ & ⋮ & ⋮\\\\\n",
       "\t 97.504 & 27.504 & 86.880 & 17.752 & 84.256 & 101.88 & 0.000 & 78.76 & 4\\\\\n",
       "\t 58.640 & 19.728 & 95.728 &  9.728 & 94.592 &  84.32 & 6.728 & 59.32 & 1\\\\\n",
       "\t 73.920 & 21.392 & 93.392 & 11.392 & 91.392 &  91.96 & 4.088 & 63.48 & 2\\\\\n",
       "\\end{tabular}\n"
      ],
      "text/markdown": [
       "\n",
       "A data.frame: 630 × 9\n",
       "\n",
       "| sr &lt;dbl&gt; | rr &lt;dbl&gt; | t &lt;dbl&gt; | lm &lt;dbl&gt; | bo &lt;dbl&gt; | rem &lt;dbl&gt; | sr.1 &lt;dbl&gt; | hr &lt;dbl&gt; | sl &lt;fct&gt; |\n",
       "|---|---|---|---|---|---|---|---|---|\n",
       "| 93.80 | 25.680 | 91.840 | 16.60 | 89.840 | 99.60 | 1.840 | 74.20 | 3 |\n",
       "| 91.64 | 25.104 | 91.552 | 15.88 | 89.552 | 98.88 | 1.552 | 72.76 | 3 |\n",
       "| 60.00 | 20.000 | 96.000 | 10.00 | 95.000 | 85.00 | 7.000 | 60.00 | 1 |\n",
       "| ⋮ | ⋮ | ⋮ | ⋮ | ⋮ | ⋮ | ⋮ | ⋮ | ⋮ |\n",
       "| 97.504 | 27.504 | 86.880 | 17.752 | 84.256 | 101.88 | 0.000 | 78.76 | 4 |\n",
       "| 58.640 | 19.728 | 95.728 |  9.728 | 94.592 |  84.32 | 6.728 | 59.32 | 1 |\n",
       "| 73.920 | 21.392 | 93.392 | 11.392 | 91.392 |  91.96 | 4.088 | 63.48 | 2 |\n",
       "\n"
      ],
      "text/plain": [
       "    sr     rr     t      lm     bo     rem    sr.1  hr    sl\n",
       "1   93.80  25.680 91.840 16.60  89.840 99.60  1.840 74.20 3 \n",
       "2   91.64  25.104 91.552 15.88  89.552 98.88  1.552 72.76 3 \n",
       "3   60.00  20.000 96.000 10.00  95.000 85.00  7.000 60.00 1 \n",
       "⋮   ⋮      ⋮      ⋮      ⋮      ⋮      ⋮      ⋮     ⋮     ⋮ \n",
       "628 97.504 27.504 86.880 17.752 84.256 101.88 0.000 78.76 4 \n",
       "629 58.640 19.728 95.728  9.728 94.592  84.32 6.728 59.32 1 \n",
       "630 73.920 21.392 93.392 11.392 91.392  91.96 4.088 63.48 2 "
      ]
     },
     "metadata": {},
     "output_type": "display_data"
    }
   ],
   "source": [
    "sleep_data_mutated <- mutate(sleep_data, sl = as_factor(sl))\n",
    "sleep_data_mutated"
   ]
  },
  {
   "cell_type": "code",
   "execution_count": 59,
   "metadata": {},
   "outputs": [
    {
     "data": {
      "text/html": [
       "<table>\n",
       "<caption>A data.frame: 630 × 5</caption>\n",
       "<thead>\n",
       "\t<tr><th scope=col>sr.1</th><th scope=col>hr</th><th scope=col>rr</th><th scope=col>t</th><th scope=col>sl</th></tr>\n",
       "\t<tr><th scope=col>&lt;dbl&gt;</th><th scope=col>&lt;dbl&gt;</th><th scope=col>&lt;dbl&gt;</th><th scope=col>&lt;dbl&gt;</th><th scope=col>&lt;fct&gt;</th></tr>\n",
       "</thead>\n",
       "<tbody>\n",
       "\t<tr><td>1.840</td><td>74.20</td><td>25.680</td><td>91.840</td><td>3</td></tr>\n",
       "\t<tr><td>1.552</td><td>72.76</td><td>25.104</td><td>91.552</td><td>3</td></tr>\n",
       "\t<tr><td>7.000</td><td>60.00</td><td>20.000</td><td>96.000</td><td>1</td></tr>\n",
       "\t<tr><td>⋮</td><td>⋮</td><td>⋮</td><td>⋮</td><td>⋮</td></tr>\n",
       "\t<tr><td>0.000</td><td>78.76</td><td>27.504</td><td>86.880</td><td>4</td></tr>\n",
       "\t<tr><td>6.728</td><td>59.32</td><td>19.728</td><td>95.728</td><td>1</td></tr>\n",
       "\t<tr><td>4.088</td><td>63.48</td><td>21.392</td><td>93.392</td><td>2</td></tr>\n",
       "</tbody>\n",
       "</table>\n"
      ],
      "text/latex": [
       "A data.frame: 630 × 5\n",
       "\\begin{tabular}{lllll}\n",
       " sr.1 & hr & rr & t & sl\\\\\n",
       " <dbl> & <dbl> & <dbl> & <dbl> & <fct>\\\\\n",
       "\\hline\n",
       "\t 1.840 & 74.20 & 25.680 & 91.840 & 3\\\\\n",
       "\t 1.552 & 72.76 & 25.104 & 91.552 & 3\\\\\n",
       "\t 7.000 & 60.00 & 20.000 & 96.000 & 1\\\\\n",
       "\t ⋮ & ⋮ & ⋮ & ⋮ & ⋮\\\\\n",
       "\t 0.000 & 78.76 & 27.504 & 86.880 & 4\\\\\n",
       "\t 6.728 & 59.32 & 19.728 & 95.728 & 1\\\\\n",
       "\t 4.088 & 63.48 & 21.392 & 93.392 & 2\\\\\n",
       "\\end{tabular}\n"
      ],
      "text/markdown": [
       "\n",
       "A data.frame: 630 × 5\n",
       "\n",
       "| sr.1 &lt;dbl&gt; | hr &lt;dbl&gt; | rr &lt;dbl&gt; | t &lt;dbl&gt; | sl &lt;fct&gt; |\n",
       "|---|---|---|---|---|\n",
       "| 1.840 | 74.20 | 25.680 | 91.840 | 3 |\n",
       "| 1.552 | 72.76 | 25.104 | 91.552 | 3 |\n",
       "| 7.000 | 60.00 | 20.000 | 96.000 | 1 |\n",
       "| ⋮ | ⋮ | ⋮ | ⋮ | ⋮ |\n",
       "| 0.000 | 78.76 | 27.504 | 86.880 | 4 |\n",
       "| 6.728 | 59.32 | 19.728 | 95.728 | 1 |\n",
       "| 4.088 | 63.48 | 21.392 | 93.392 | 2 |\n",
       "\n"
      ],
      "text/plain": [
       "    sr.1  hr    rr     t      sl\n",
       "1   1.840 74.20 25.680 91.840 3 \n",
       "2   1.552 72.76 25.104 91.552 3 \n",
       "3   7.000 60.00 20.000 96.000 1 \n",
       "⋮   ⋮     ⋮     ⋮      ⋮      ⋮ \n",
       "628 0.000 78.76 27.504 86.880 4 \n",
       "629 6.728 59.32 19.728 95.728 1 \n",
       "630 4.088 63.48 21.392 93.392 2 "
      ]
     },
     "metadata": {},
     "output_type": "display_data"
    }
   ],
   "source": [
    "selected_coloumns <- select(sleep_data_mutated, sr.1, hr, rr, t, sl)        \n",
    "selected_coloumns"
   ]
  },
  {
   "cell_type": "code",
   "execution_count": 60,
   "metadata": {},
   "outputs": [
    {
     "data": {
      "text/html": [
       "<table>\n",
       "<caption>A data.frame: 200 × 5</caption>\n",
       "<thead>\n",
       "\t<tr><th scope=col>sr.1</th><th scope=col>hr</th><th scope=col>rr</th><th scope=col>t</th><th scope=col>sl</th></tr>\n",
       "\t<tr><th scope=col>&lt;dbl&gt;</th><th scope=col>&lt;dbl&gt;</th><th scope=col>&lt;dbl&gt;</th><th scope=col>&lt;dbl&gt;</th><th scope=col>&lt;fct&gt;</th></tr>\n",
       "</thead>\n",
       "<tbody>\n",
       "\t<tr><td>1.840</td><td>74.20</td><td>25.680</td><td>91.840</td><td>3</td></tr>\n",
       "\t<tr><td>1.552</td><td>72.76</td><td>25.104</td><td>91.552</td><td>3</td></tr>\n",
       "\t<tr><td>7.000</td><td>60.00</td><td>20.000</td><td>96.000</td><td>1</td></tr>\n",
       "\t<tr><td>⋮</td><td>⋮</td><td>⋮</td><td>⋮</td><td>⋮</td></tr>\n",
       "\t<tr><td>8.456</td><td>53.64</td><td>17.456</td><td>98.184</td><td>0</td></tr>\n",
       "\t<tr><td>3.104</td><td>61.84</td><td>20.736</td><td>92.736</td><td>2</td></tr>\n",
       "\t<tr><td>1.168</td><td>70.84</td><td>24.336</td><td>91.168</td><td>3</td></tr>\n",
       "</tbody>\n",
       "</table>\n"
      ],
      "text/latex": [
       "A data.frame: 200 × 5\n",
       "\\begin{tabular}{lllll}\n",
       " sr.1 & hr & rr & t & sl\\\\\n",
       " <dbl> & <dbl> & <dbl> & <dbl> & <fct>\\\\\n",
       "\\hline\n",
       "\t 1.840 & 74.20 & 25.680 & 91.840 & 3\\\\\n",
       "\t 1.552 & 72.76 & 25.104 & 91.552 & 3\\\\\n",
       "\t 7.000 & 60.00 & 20.000 & 96.000 & 1\\\\\n",
       "\t ⋮ & ⋮ & ⋮ & ⋮ & ⋮\\\\\n",
       "\t 8.456 & 53.64 & 17.456 & 98.184 & 0\\\\\n",
       "\t 3.104 & 61.84 & 20.736 & 92.736 & 2\\\\\n",
       "\t 1.168 & 70.84 & 24.336 & 91.168 & 3\\\\\n",
       "\\end{tabular}\n"
      ],
      "text/markdown": [
       "\n",
       "A data.frame: 200 × 5\n",
       "\n",
       "| sr.1 &lt;dbl&gt; | hr &lt;dbl&gt; | rr &lt;dbl&gt; | t &lt;dbl&gt; | sl &lt;fct&gt; |\n",
       "|---|---|---|---|---|\n",
       "| 1.840 | 74.20 | 25.680 | 91.840 | 3 |\n",
       "| 1.552 | 72.76 | 25.104 | 91.552 | 3 |\n",
       "| 7.000 | 60.00 | 20.000 | 96.000 | 1 |\n",
       "| ⋮ | ⋮ | ⋮ | ⋮ | ⋮ |\n",
       "| 8.456 | 53.64 | 17.456 | 98.184 | 0 |\n",
       "| 3.104 | 61.84 | 20.736 | 92.736 | 2 |\n",
       "| 1.168 | 70.84 | 24.336 | 91.168 | 3 |\n",
       "\n"
      ],
      "text/plain": [
       "    sr.1  hr    rr     t      sl\n",
       "1   1.840 74.20 25.680 91.840 3 \n",
       "2   1.552 72.76 25.104 91.552 3 \n",
       "3   7.000 60.00 20.000 96.000 1 \n",
       "⋮   ⋮     ⋮     ⋮      ⋮      ⋮ \n",
       "198 8.456 53.64 17.456 98.184 0 \n",
       "199 3.104 61.84 20.736 92.736 2 \n",
       "200 1.168 70.84 24.336 91.168 3 "
      ]
     },
     "metadata": {},
     "output_type": "display_data"
    }
   ],
   "source": [
    "sleep_data_sliced <- slice(selected_coloumns, 1:200)\n",
    "sleep_data_sliced"
   ]
  },
  {
   "cell_type": "code",
   "execution_count": 62,
   "metadata": {},
   "outputs": [
    {
     "data": {
      "text/html": [
       "<table>\n",
       "<caption>A data.frame: 153 × 5</caption>\n",
       "<thead>\n",
       "\t<tr><th></th><th scope=col>sr.1</th><th scope=col>hr</th><th scope=col>rr</th><th scope=col>t</th><th scope=col>sl</th></tr>\n",
       "\t<tr><th></th><th scope=col>&lt;dbl&gt;</th><th scope=col>&lt;dbl&gt;</th><th scope=col>&lt;dbl&gt;</th><th scope=col>&lt;dbl&gt;</th><th scope=col>&lt;fct&gt;</th></tr>\n",
       "</thead>\n",
       "<tbody>\n",
       "\t<tr><th scope=row>2</th><td>1.552</td><td>72.76</td><td>25.104</td><td>91.552</td><td>3</td></tr>\n",
       "\t<tr><th scope=row>3</th><td>7.000</td><td>60.00</td><td>20.000</td><td>96.000</td><td>1</td></tr>\n",
       "\t<tr><th scope=row>4</th><td>0.768</td><td>68.84</td><td>23.536</td><td>90.768</td><td>3</td></tr>\n",
       "\t<tr><th scope=row>⋮</th><td>⋮</td><td>⋮</td><td>⋮</td><td>⋮</td><td>⋮</td></tr>\n",
       "\t<tr><th scope=row>197</th><td>7.384</td><td>50.96</td><td>16.384</td><td>96.576</td><td>0</td></tr>\n",
       "\t<tr><th scope=row>198</th><td>8.456</td><td>53.64</td><td>17.456</td><td>98.184</td><td>0</td></tr>\n",
       "\t<tr><th scope=row>200</th><td>1.168</td><td>70.84</td><td>24.336</td><td>91.168</td><td>3</td></tr>\n",
       "</tbody>\n",
       "</table>\n"
      ],
      "text/latex": [
       "A data.frame: 153 × 5\n",
       "\\begin{tabular}{r|lllll}\n",
       "  & sr.1 & hr & rr & t & sl\\\\\n",
       "  & <dbl> & <dbl> & <dbl> & <dbl> & <fct>\\\\\n",
       "\\hline\n",
       "\t2 & 1.552 & 72.76 & 25.104 & 91.552 & 3\\\\\n",
       "\t3 & 7.000 & 60.00 & 20.000 & 96.000 & 1\\\\\n",
       "\t4 & 0.768 & 68.84 & 23.536 & 90.768 & 3\\\\\n",
       "\t⋮ & ⋮ & ⋮ & ⋮ & ⋮ & ⋮\\\\\n",
       "\t197 & 7.384 & 50.96 & 16.384 & 96.576 & 0\\\\\n",
       "\t198 & 8.456 & 53.64 & 17.456 & 98.184 & 0\\\\\n",
       "\t200 & 1.168 & 70.84 & 24.336 & 91.168 & 3\\\\\n",
       "\\end{tabular}\n"
      ],
      "text/markdown": [
       "\n",
       "A data.frame: 153 × 5\n",
       "\n",
       "| <!--/--> | sr.1 &lt;dbl&gt; | hr &lt;dbl&gt; | rr &lt;dbl&gt; | t &lt;dbl&gt; | sl &lt;fct&gt; |\n",
       "|---|---|---|---|---|---|\n",
       "| 2 | 1.552 | 72.76 | 25.104 | 91.552 | 3 |\n",
       "| 3 | 7.000 | 60.00 | 20.000 | 96.000 | 1 |\n",
       "| 4 | 0.768 | 68.84 | 23.536 | 90.768 | 3 |\n",
       "| ⋮ | ⋮ | ⋮ | ⋮ | ⋮ | ⋮ |\n",
       "| 197 | 7.384 | 50.96 | 16.384 | 96.576 | 0 |\n",
       "| 198 | 8.456 | 53.64 | 17.456 | 98.184 | 0 |\n",
       "| 200 | 1.168 | 70.84 | 24.336 | 91.168 | 3 |\n",
       "\n"
      ],
      "text/plain": [
       "    sr.1  hr    rr     t      sl\n",
       "2   1.552 72.76 25.104 91.552 3 \n",
       "3   7.000 60.00 20.000 96.000 1 \n",
       "4   0.768 68.84 23.536 90.768 3 \n",
       "⋮   ⋮     ⋮     ⋮      ⋮      ⋮ \n",
       "197 7.384 50.96 16.384 96.576 0 \n",
       "198 8.456 53.64 17.456 98.184 0 \n",
       "200 1.168 70.84 24.336 91.168 3 "
      ]
     },
     "metadata": {},
     "output_type": "display_data"
    },
    {
     "data": {
      "text/html": [
       "<table>\n",
       "<caption>A data.frame: 47 × 5</caption>\n",
       "<thead>\n",
       "\t<tr><th></th><th scope=col>sr.1</th><th scope=col>hr</th><th scope=col>rr</th><th scope=col>t</th><th scope=col>sl</th></tr>\n",
       "\t<tr><th></th><th scope=col>&lt;dbl&gt;</th><th scope=col>&lt;dbl&gt;</th><th scope=col>&lt;dbl&gt;</th><th scope=col>&lt;dbl&gt;</th><th scope=col>&lt;fct&gt;</th></tr>\n",
       "</thead>\n",
       "<tbody>\n",
       "\t<tr><th scope=row>1</th><td>1.840</td><td>74.20</td><td>25.680</td><td>91.840</td><td>3</td></tr>\n",
       "\t<tr><th scope=row>8</th><td>9.000</td><td>55.00</td><td>18.000</td><td>99.000</td><td>0</td></tr>\n",
       "\t<tr><th scope=row>17</th><td>5.528</td><td>56.32</td><td>18.528</td><td>94.528</td><td>1</td></tr>\n",
       "\t<tr><th scope=row>⋮</th><td>⋮</td><td>⋮</td><td>⋮</td><td>⋮</td><td>⋮</td></tr>\n",
       "\t<tr><th scope=row>187</th><td>7.816</td><td>52.04</td><td>16.816</td><td>97.224</td><td>0</td></tr>\n",
       "\t<tr><th scope=row>191</th><td>5.560</td><td>56.40</td><td>18.560</td><td>94.560</td><td>1</td></tr>\n",
       "\t<tr><th scope=row>199</th><td>3.104</td><td>61.84</td><td>20.736</td><td>92.736</td><td>2</td></tr>\n",
       "</tbody>\n",
       "</table>\n"
      ],
      "text/latex": [
       "A data.frame: 47 × 5\n",
       "\\begin{tabular}{r|lllll}\n",
       "  & sr.1 & hr & rr & t & sl\\\\\n",
       "  & <dbl> & <dbl> & <dbl> & <dbl> & <fct>\\\\\n",
       "\\hline\n",
       "\t1 & 1.840 & 74.20 & 25.680 & 91.840 & 3\\\\\n",
       "\t8 & 9.000 & 55.00 & 18.000 & 99.000 & 0\\\\\n",
       "\t17 & 5.528 & 56.32 & 18.528 & 94.528 & 1\\\\\n",
       "\t⋮ & ⋮ & ⋮ & ⋮ & ⋮ & ⋮\\\\\n",
       "\t187 & 7.816 & 52.04 & 16.816 & 97.224 & 0\\\\\n",
       "\t191 & 5.560 & 56.40 & 18.560 & 94.560 & 1\\\\\n",
       "\t199 & 3.104 & 61.84 & 20.736 & 92.736 & 2\\\\\n",
       "\\end{tabular}\n"
      ],
      "text/markdown": [
       "\n",
       "A data.frame: 47 × 5\n",
       "\n",
       "| <!--/--> | sr.1 &lt;dbl&gt; | hr &lt;dbl&gt; | rr &lt;dbl&gt; | t &lt;dbl&gt; | sl &lt;fct&gt; |\n",
       "|---|---|---|---|---|---|\n",
       "| 1 | 1.840 | 74.20 | 25.680 | 91.840 | 3 |\n",
       "| 8 | 9.000 | 55.00 | 18.000 | 99.000 | 0 |\n",
       "| 17 | 5.528 | 56.32 | 18.528 | 94.528 | 1 |\n",
       "| ⋮ | ⋮ | ⋮ | ⋮ | ⋮ | ⋮ |\n",
       "| 187 | 7.816 | 52.04 | 16.816 | 97.224 | 0 |\n",
       "| 191 | 5.560 | 56.40 | 18.560 | 94.560 | 1 |\n",
       "| 199 | 3.104 | 61.84 | 20.736 | 92.736 | 2 |\n",
       "\n"
      ],
      "text/plain": [
       "    sr.1  hr    rr     t      sl\n",
       "1   1.840 74.20 25.680 91.840 3 \n",
       "8   9.000 55.00 18.000 99.000 0 \n",
       "17  5.528 56.32 18.528 94.528 1 \n",
       "⋮   ⋮     ⋮     ⋮      ⋮      ⋮ \n",
       "187 7.816 52.04 16.816 97.224 0 \n",
       "191 5.560 56.40 18.560 94.560 1 \n",
       "199 3.104 61.84 20.736 92.736 2 "
      ]
     },
     "metadata": {},
     "output_type": "display_data"
    }
   ],
   "source": [
    "sleep_split <- initial_split(sleep_data_sliced, prop = 0.75, strata = sl)\n",
    "sleep_train <- training(sleep_split)\n",
    "sleep_test <- testing(sleep_split)\n",
    "sleep_train\n",
    "sleep_test"
   ]
  },
  {
   "cell_type": "code",
   "execution_count": 63,
   "metadata": {},
   "outputs": [
    {
     "data": {
      "image/png": "[encoded data removed]",
      "text/plain": [
       "plot without title"
      ]
     },
     "metadata": {
      "image/png": {
       "height": 420,
       "width": 420
      }
     },
     "output_type": "display_data"
    }
   ],
   "source": [
    "sleep_train_plot <- ggplot(sleep_train, aes( x = hr, y = sr.1, color = sl)) +\n",
    "geom_point() +\n",
    "labs(x = \"Heart Rate (during sleep)\", y = \"Hours of Sleep\", color = \"Stress levels\")\n",
    "sleep_train_plot"
   ]
  },
  {
   "cell_type": "code",
   "execution_count": null,
   "metadata": {},
   "outputs": [],
   "source": []
  }
 ],
 "metadata": {
  "kernelspec": {
   "display_name": "R",
   "language": "R",
   "name": "ir"
  },
  "language_info": {
   "codemirror_mode": "r",
   "file_extension": ".r",
   "mimetype": "text/x-r-source",
   "name": "R",
   "pygments_lexer": "r",
   "version": "4.0.0"
  }
 },
 "nbformat": 4,
 "nbformat_minor": 4
}
